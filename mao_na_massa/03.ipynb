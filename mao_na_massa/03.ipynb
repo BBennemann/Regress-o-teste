{
 "cells": [
  {
   "cell_type": "markdown",
   "id": "3967a7f4",
   "metadata": {},
   "source": [
    "# estimando o valor de uma casa"
   ]
  },
  {
   "cell_type": "markdown",
   "id": "be33e9b0",
   "metadata": {},
   "source": [
    "Você recebeu uma demanda para estimar o preço de uma casa com as seguintes características:\n",
    "\n",
    "- 1 banheiro\n",
    "- Área 98m²\n",
    "- Não contém segundo andar\n",
    "- Qualidade da cozinha excelente\n",
    "\n",
    "Sua tarefa é utilizar o modelo de regressão treinado durante o curso para obter o preço da casa com essas características. Por isso, crie um DataFrame com essas informações e faça a previsão do valor do imóvel."
   ]
  },
  {
   "cell_type": "code",
   "execution_count": 22,
   "id": "d4753505",
   "metadata": {},
   "outputs": [],
   "source": [
    "import pandas as pd"
   ]
  },
  {
   "cell_type": "code",
   "execution_count": 23,
   "id": "13d0171e",
   "metadata": {},
   "outputs": [
    {
     "name": "stdout",
     "output_type": "stream",
     "text": [
      "<class 'pandas.core.frame.DataFrame'>\n",
      "RangeIndex: 1438 entries, 0 to 1437\n",
      "Data columns (total 8 columns):\n",
      " #   Column                          Non-Null Count  Dtype  \n",
      "---  ------                          --------------  -----  \n",
      " 0   Id                              1438 non-null   int64  \n",
      " 1   area_primeiro_andar             1438 non-null   float64\n",
      " 2   existe_segundo_andar            1438 non-null   int64  \n",
      " 3   area_segundo_andar              1438 non-null   float64\n",
      " 4   quantidade_banheiros            1438 non-null   int64  \n",
      " 5   capacidade_carros_garagem       1438 non-null   int64  \n",
      " 6   qualidade_da_cozinha_Excelente  1438 non-null   int64  \n",
      " 7   preco_de_venda                  1438 non-null   float64\n",
      "dtypes: float64(3), int64(5)\n",
      "memory usage: 90.0 KB\n"
     ]
    }
   ],
   "source": [
    "dados = pd.read_csv('../data/Preços_de_casas.csv')\n",
    "dados.info()"
   ]
  },
  {
   "cell_type": "code",
   "execution_count": 24,
   "id": "3e519104",
   "metadata": {},
   "outputs": [],
   "source": [
    "dados = dados.drop(columns='Id')\n",
    "x = dados.drop(columns=['preco_de_venda', 'capacidade_carros_garagem', 'area_segundo_andar'])\n",
    "y = dados['preco_de_venda']"
   ]
  },
  {
   "cell_type": "code",
   "execution_count": 25,
   "id": "ddd5a69b",
   "metadata": {},
   "outputs": [],
   "source": [
    "import statsmodels.api as sm"
   ]
  },
  {
   "cell_type": "code",
   "execution_count": 26,
   "id": "5b2684a6",
   "metadata": {},
   "outputs": [
    {
     "data": {
      "text/plain": [
       "const                            -133297.752895\n",
       "area_primeiro_andar                 6037.564449\n",
       "existe_segundo_andar              207545.130387\n",
       "quantidade_banheiros              161942.195498\n",
       "qualidade_da_cozinha_Excelente    434575.514543\n",
       "dtype: float64"
      ]
     },
     "execution_count": 26,
     "metadata": {},
     "output_type": "execute_result"
    }
   ],
   "source": [
    "x = sm.add_constant(x)\n",
    "modelo = sm.OLS(y, x).fit()\n",
    "modelo.params"
   ]
  },
  {
   "cell_type": "code",
   "execution_count": 27,
   "id": "96202671",
   "metadata": {},
   "outputs": [],
   "source": [
    "x_test = pd.DataFrame({\n",
    "    'const': [1],\n",
    "    'area_primeiro_andar': [98],\n",
    "    'existe_segundo_andar': [0],\n",
    "    'quantidade_banheiros': [1],\n",
    "    'qualidade_da_cozinha_Excelente': [1]\n",
    "})"
   ]
  },
  {
   "cell_type": "code",
   "execution_count": 28,
   "id": "281d4cac",
   "metadata": {},
   "outputs": [
    {
     "name": "stdout",
     "output_type": "stream",
     "text": [
      "1054901.2731951436\n"
     ]
    }
   ],
   "source": [
    "print(modelo.predict(x_test)[0])"
   ]
  },
  {
   "cell_type": "code",
   "execution_count": null,
   "id": "7293e4ab",
   "metadata": {},
   "outputs": [],
   "source": []
  }
 ],
 "metadata": {
  "kernelspec": {
   "display_name": ".venv",
   "language": "python",
   "name": "python3"
  },
  "language_info": {
   "codemirror_mode": {
    "name": "ipython",
    "version": 3
   },
   "file_extension": ".py",
   "mimetype": "text/x-python",
   "name": "python",
   "nbconvert_exporter": "python",
   "pygments_lexer": "ipython3",
   "version": "3.12.3"
  }
 },
 "nbformat": 4,
 "nbformat_minor": 5
}
